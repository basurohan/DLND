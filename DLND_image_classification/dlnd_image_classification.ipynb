{
 "cells": [
  {
   "cell_type": "markdown",
   "metadata": {
    "collapsed": true,
    "deletable": true,
    "editable": true
   },
   "source": [
    "# Image Classification\n",
    "In this project, you'll classify images from the [CIFAR-10 dataset](https://www.cs.toronto.edu/~kriz/cifar.html).  The dataset consists of airplanes, dogs, cats, and other objects. You'll preprocess the images, then train a convolutional neural network on all the samples. The images need to be normalized and the labels need to be one-hot encoded.  You'll get to apply what you learned and build a convolutional, max pooling, dropout, and fully connected layers.  At the end, you'll get to see your neural network's predictions on the sample images.\n",
    "## Get the Data\n",
    "Run the following cell to download the [CIFAR-10 dataset for python](https://www.cs.toronto.edu/~kriz/cifar-10-python.tar.gz)."
   ]
  },
  {
   "cell_type": "code",
   "execution_count": 37,
   "metadata": {
    "collapsed": false,
    "deletable": true,
    "editable": true
   },
   "outputs": [
    {
     "name": "stdout",
     "output_type": "stream",
     "text": [
      "All files found!\n"
     ]
    }
   ],
   "source": [
    "\"\"\"\n",
    "DON'T MODIFY ANYTHING IN THIS CELL THAT IS BELOW THIS LINE\n",
    "\"\"\"\n",
    "from urllib.request import urlretrieve\n",
    "from os.path import isfile, isdir\n",
    "from tqdm import tqdm\n",
    "import problem_unittests as tests\n",
    "import tarfile\n",
    "\n",
    "cifar10_dataset_folder_path = 'cifar-10-batches-py'\n",
    "\n",
    "class DLProgress(tqdm):\n",
    "    last_block = 0\n",
    "\n",
    "    def hook(self, block_num=1, block_size=1, total_size=None):\n",
    "        self.total = total_size\n",
    "        self.update((block_num - self.last_block) * block_size)\n",
    "        self.last_block = block_num\n",
    "\n",
    "if not isfile('cifar-10-python.tar.gz'):\n",
    "    with DLProgress(unit='B', unit_scale=True, miniters=1, desc='CIFAR-10 Dataset') as pbar:\n",
    "        urlretrieve(\n",
    "            'https://www.cs.toronto.edu/~kriz/cifar-10-python.tar.gz',\n",
    "            'cifar-10-python.tar.gz',\n",
    "            pbar.hook)\n",
    "\n",
    "if not isdir(cifar10_dataset_folder_path):\n",
    "    with tarfile.open('cifar-10-python.tar.gz') as tar:\n",
    "        tar.extractall()\n",
    "        tar.close()\n",
    "\n",
    "\n",
    "tests.test_folder_path(cifar10_dataset_folder_path)"
   ]
  },
  {
   "cell_type": "markdown",
   "metadata": {
    "deletable": true,
    "editable": true
   },
   "source": [
    "## Explore the Data\n",
    "The dataset is broken into batches to prevent your machine from running out of memory.  The CIFAR-10 dataset consists of 5 batches, named `data_batch_1`, `data_batch_2`, etc.. Each batch contains the labels and images that are one of the following:\n",
    "* airplane\n",
    "* automobile\n",
    "* bird\n",
    "* cat\n",
    "* deer\n",
    "* dog\n",
    "* frog\n",
    "* horse\n",
    "* ship\n",
    "* truck\n",
    "\n",
    "Understanding a dataset is part of making predictions on the data.  Play around with the code cell below by changing the `batch_id` and `sample_id`. The `batch_id` is the id for a batch (1-5). The `sample_id` is the id for a image and label pair in the batch.\n",
    "\n",
    "Ask yourself \"What are all possible labels?\", \"What is the range of values for the image data?\", \"Are the labels in order or random?\".  Answers to questions like these will help you preprocess the data and end up with better predictions."
   ]
  },
  {
   "cell_type": "code",
   "execution_count": 38,
   "metadata": {
    "collapsed": false,
    "deletable": true,
    "editable": true
   },
   "outputs": [
    {
     "name": "stdout",
     "output_type": "stream",
     "text": [
      "\n",
      "Stats of batch 2:\n",
      "Samples: 10000\n",
      "Label Counts: {0: 984, 1: 1007, 2: 1010, 3: 995, 4: 1010, 5: 988, 6: 1008, 7: 1026, 8: 987, 9: 985}\n",
      "First 20 Labels: [1, 6, 6, 8, 8, 3, 4, 6, 0, 6, 0, 3, 6, 6, 5, 4, 8, 3, 2, 6]\n",
      "\n",
      "Example of Image 20:\n",
      "Image - Min Value: 24 Max Value: 206\n",
      "Image - Shape: (32, 32, 3)\n",
      "Label - Label Id: 0 Name: airplane\n"
     ]
    },
    {
     "data": {
      "image/png": "[encoded data removed]",
      "text/plain": [
       "<matplotlib.figure.Figure at 0x7fbb183d42b0>"
      ]
     },
     "metadata": {
      "image/png": {
       "height": 250,
       "width": 253
      }
     },
     "output_type": "display_data"
    }
   ],
   "source": [
    "%matplotlib inline\n",
    "%config InlineBackend.figure_format = 'retina'\n",
    "\n",
    "import helper\n",
    "import numpy as np\n",
    "\n",
    "# Explore the dataset\n",
    "batch_id = 2\n",
    "sample_id = 20\n",
    "helper.display_stats(cifar10_dataset_folder_path, batch_id, sample_id)"
   ]
  },
  {
   "cell_type": "markdown",
   "metadata": {
    "deletable": true,
    "editable": true
   },
   "source": [
    "## Implement Preprocess Functions\n",
    "### Normalize\n",
    "In the cell below, implement the `normalize` function to take in image data, `x`, and return it as a normalized Numpy array. The values should be in the range of 0 to 1, inclusive.  The return object should be the same shape as `x`."
   ]
  },
  {
   "cell_type": "code",
   "execution_count": 39,
   "metadata": {
    "collapsed": false,
    "deletable": true,
    "editable": true
   },
   "outputs": [
    {
     "name": "stdout",
     "output_type": "stream",
     "text": [
      "Tests Passed\n"
     ]
    }
   ],
   "source": [
    "def normalize(x):\n",
    "    \"\"\"\n",
    "    Normalize a list of sample image data in the range of 0 to 1\n",
    "    : x: List of image data.  The image shape is (32, 32, 3)\n",
    "    : return: Numpy array of normalize data\n",
    "    \"\"\"\n",
    "    # TODO: Implement Function\n",
    "    #x=x.astype('float32')\n",
    "    #if x.max() > 1.0:\n",
    "     #   x/=255.0\n",
    "    \n",
    "    x = np.array(x)\n",
    "    x_min = x.min()\n",
    "    x_max = x.max()\n",
    "    x = (x - x_min) / (x_max - x_min)\n",
    "    \n",
    "    return x\n",
    "\n",
    "\n",
    "\"\"\"\n",
    "DON'T MODIFY ANYTHING IN THIS CELL THAT IS BELOW THIS LINE\n",
    "\"\"\"\n",
    "tests.test_normalize(normalize)"
   ]
  },
  {
   "cell_type": "markdown",
   "metadata": {
    "deletable": true,
    "editable": true
   },
   "source": [
    "### One-hot encode\n",
    "Just like the previous code cell, you'll be implementing a function for preprocessing.  This time, you'll implement the `one_hot_encode` function. The input, `x`, are a list of labels.  Implement the function to return the list of labels as One-Hot encoded Numpy array.  The possible values for labels are 0 to 9. The one-hot encoding function should return the same encoding for each value between each call to `one_hot_encode`.  Make sure to save the map of encodings outside the function.\n",
    "\n",
    "Hint: Don't reinvent the wheel."
   ]
  },
  {
   "cell_type": "code",
   "execution_count": 40,
   "metadata": {
    "collapsed": false,
    "deletable": true,
    "editable": true
   },
   "outputs": [
    {
     "name": "stdout",
     "output_type": "stream",
     "text": [
      "Tests Passed\n"
     ]
    }
   ],
   "source": [
    "def one_hot_encode(x):\n",
    "    \"\"\"\n",
    "    One hot encode a list of sample labels. Return a one-hot encoded vector for each label.\n",
    "    : x: List of sample Labels\n",
    "    : return: Numpy array of one-hot encoded labels\n",
    "    \"\"\"\n",
    "    # TODO: Implement Function\n",
    "    one_hot = np.zeros((len(x), max(x)+1))\n",
    "    one_hot[np.arange(len(x)), x] = 1\n",
    "    return one_hot\n",
    "\n",
    "\n",
    "\"\"\"\n",
    "DON'T MODIFY ANYTHING IN THIS CELL THAT IS BELOW THIS LINE\n",
    "\"\"\"\n",
    "tests.test_one_hot_encode(one_hot_encode)"
   ]
  },
  {
   "cell_type": "markdown",
   "metadata": {
    "deletable": true,
    "editable": true
   },
   "source": [
    "### Randomize Data\n",
    "As you saw from exploring the data above, the order of the samples are randomized.  It doesn't hurt to randomize it again, but you don't need to for this dataset."
   ]
  },
  {
   "cell_type": "markdown",
   "metadata": {
    "deletable": true,
    "editable": true
   },
   "source": [
    "## Preprocess all the data and save it\n",
    "Running the code cell below will preprocess all the CIFAR-10 data and save it to file. The code below also uses 10% of the training data for validation."
   ]
  },
  {
   "cell_type": "code",
   "execution_count": 41,
   "metadata": {
    "collapsed": false,
    "deletable": true,
    "editable": true
   },
   "outputs": [],
   "source": [
    "\"\"\"\n",
    "DON'T MODIFY ANYTHING IN THIS CELL\n",
    "\"\"\"\n",
    "# Preprocess Training, Validation, and Testing Data\n",
    "helper.preprocess_and_save_data(cifar10_dataset_folder_path, normalize, one_hot_encode)"
   ]
  },
  {
   "cell_type": "markdown",
   "metadata": {
    "deletable": true,
    "editable": true
   },
   "source": [
    "# Check Point\n",
    "This is your first checkpoint.  If you ever decide to come back to this notebook or have to restart the notebook, you can start from here.  The preprocessed data has been saved to disk."
   ]
  },
  {
   "cell_type": "code",
   "execution_count": 1,
   "metadata": {
    "collapsed": true,
    "deletable": true,
    "editable": true
   },
   "outputs": [],
   "source": [
    "\"\"\"\n",
    "DON'T MODIFY ANYTHING IN THIS CELL\n",
    "\"\"\"\n",
    "import pickle\n",
    "import problem_unittests as tests\n",
    "import helper\n",
    "\n",
    "# Load the Preprocessed Validation data\n",
    "valid_features, valid_labels = pickle.load(open('preprocess_validation.p', mode='rb'))"
   ]
  },
  {
   "cell_type": "markdown",
   "metadata": {
    "deletable": true,
    "editable": true
   },
   "source": [
    "## Build the network\n",
    "For the neural network, you'll build each layer into a function.  Most of the code you've seen has been outside of functions. To test your code more thoroughly, we require that you put each layer in a function.  This allows us to give you better feedback and test for simple mistakes using our unittests before you submit your project.\n",
    "\n",
    ">**Note:** If you're finding it hard to dedicate enough time for this course each week, we've provided a small shortcut to this part of the project. In the next couple of problems, you'll have the option to use classes from the [TensorFlow Layers](https://www.tensorflow.org/api_docs/python/tf/layers) or [TensorFlow Layers (contrib)](https://www.tensorflow.org/api_guides/python/contrib.layers) packages to build each layer, except the layers you build in the \"Convolutional and Max Pooling Layer\" section.  TF Layers is similar to Keras's and TFLearn's abstraction to layers, so it's easy to pickup.\n",
    "\n",
    ">However, if you would like to get the most out of this course, try to solve all the problems _without_ using anything from the TF Layers packages. You **can** still use classes from other packages that happen to have the same name as ones you find in TF Layers! For example, instead of using the TF Layers version of the `conv2d` class, [tf.layers.conv2d](https://www.tensorflow.org/api_docs/python/tf/layers/conv2d), you would want to use the TF Neural Network version of `conv2d`, [tf.nn.conv2d](https://www.tensorflow.org/api_docs/python/tf/nn/conv2d). \n",
    "\n",
    "Let's begin!\n",
    "\n",
    "### Input\n",
    "The neural network needs to read the image data, one-hot encoded labels, and dropout keep probability. Implement the following functions\n",
    "* Implement `neural_net_image_input`\n",
    " * Return a [TF Placeholder](https://www.tensorflow.org/api_docs/python/tf/placeholder)\n",
    " * Set the shape using `image_shape` with batch size set to `None`.\n",
    " * Name the TensorFlow placeholder \"x\" using the TensorFlow `name` parameter in the [TF Placeholder](https://www.tensorflow.org/api_docs/python/tf/placeholder).\n",
    "* Implement `neural_net_label_input`\n",
    " * Return a [TF Placeholder](https://www.tensorflow.org/api_docs/python/tf/placeholder)\n",
    " * Set the shape using `n_classes` with batch size set to `None`.\n",
    " * Name the TensorFlow placeholder \"y\" using the TensorFlow `name` parameter in the [TF Placeholder](https://www.tensorflow.org/api_docs/python/tf/placeholder).\n",
    "* Implement `neural_net_keep_prob_input`\n",
    " * Return a [TF Placeholder](https://www.tensorflow.org/api_docs/python/tf/placeholder) for dropout keep probability.\n",
    " * Name the TensorFlow placeholder \"keep_prob\" using the TensorFlow `name` parameter in the [TF Placeholder](https://www.tensorflow.org/api_docs/python/tf/placeholder).\n",
    "\n",
    "These names will be used at the end of the project to load your saved model.\n",
    "\n",
    "Note: `None` for shapes in TensorFlow allow for a dynamic size."
   ]
  },
  {
   "cell_type": "code",
   "execution_count": 2,
   "metadata": {
    "collapsed": false,
    "deletable": true,
    "editable": true
   },
   "outputs": [
    {
     "name": "stdout",
     "output_type": "stream",
     "text": [
      "Image Input Tests Passed.\n",
      "Label Input Tests Passed.\n",
      "Keep Prob Tests Passed.\n"
     ]
    }
   ],
   "source": [
    "import tensorflow as tf\n",
    "\n",
    "def neural_net_image_input(image_shape):\n",
    "    \"\"\"\n",
    "    Return a Tensor for a bach of image input\n",
    "    : image_shape: Shape of the images\n",
    "    : return: Tensor for image input.\n",
    "    \"\"\"\n",
    "    # TODO: Implement Function\n",
    "    return tf.placeholder(tf.float32, (None, image_shape[0], image_shape[1], image_shape[2]), name='x')\n",
    "\n",
    "\n",
    "def neural_net_label_input(n_classes):\n",
    "    \"\"\"\n",
    "    Return a Tensor for a batch of label input\n",
    "    : n_classes: Number of classes\n",
    "    : return: Tensor for label input.\n",
    "    \"\"\"\n",
    "    # TODO: Implement Function\n",
    "    return tf.placeholder(tf.float32, [None, n_classes], name='y')\n",
    "\n",
    "\n",
    "def neural_net_keep_prob_input():\n",
    "    \"\"\"\n",
    "    Return a Tensor for keep probability\n",
    "    : return: Tensor for keep probability.\n",
    "    \"\"\"\n",
    "    # TODO: Implement Function\n",
    "    return tf.placeholder(tf.float32, name='keep_prob')\n",
    "\n",
    "\n",
    "\"\"\"\n",
    "DON'T MODIFY ANYTHING IN THIS CELL THAT IS BELOW THIS LINE\n",
    "\"\"\"\n",
    "tf.reset_default_graph()\n",
    "tests.test_nn_image_inputs(neural_net_image_input)\n",
    "tests.test_nn_label_inputs(neural_net_label_input)\n",
    "tests.test_nn_keep_prob_inputs(neural_net_keep_prob_input)"
   ]
  },
  {
   "cell_type": "markdown",
   "metadata": {
    "deletable": true,
    "editable": true
   },
   "source": [
    "### Convolution and Max Pooling Layer\n",
    "Convolution layers have a lot of success with images. For this code cell, you should implement the function `conv2d_maxpool` to apply convolution then max pooling:\n",
    "* Create the weight and bias using `conv_ksize`, `conv_num_outputs` and the shape of `x_tensor`.\n",
    "* Apply a convolution to `x_tensor` using weight and `conv_strides`.\n",
    " * We recommend you use same padding, but you're welcome to use any padding.\n",
    "* Add bias\n",
    "* Add a nonlinear activation to the convolution.\n",
    "* Apply Max Pooling using `pool_ksize` and `pool_strides`.\n",
    " * We recommend you use same padding, but you're welcome to use any padding.\n",
    "\n",
    "**Note:** You **can't** use [TensorFlow Layers](https://www.tensorflow.org/api_docs/python/tf/layers) or [TensorFlow Layers (contrib)](https://www.tensorflow.org/api_guides/python/contrib.layers) for **this** layer, but you can still use TensorFlow's [Neural Network](https://www.tensorflow.org/api_docs/python/tf/nn) package. You may still use the shortcut option for all the **other** layers."
   ]
  },
  {
   "cell_type": "code",
   "execution_count": 3,
   "metadata": {
    "collapsed": false,
    "deletable": true,
    "editable": true
   },
   "outputs": [
    {
     "name": "stdout",
     "output_type": "stream",
     "text": [
      "Tests Passed\n"
     ]
    }
   ],
   "source": [
    "def conv2d_maxpool(x_tensor, conv_num_outputs, conv_ksize, conv_strides, pool_ksize, pool_strides):\n",
    "    \"\"\"\n",
    "    Apply convolution then max pooling to x_tensor\n",
    "    :param x_tensor: TensorFlow Tensor\n",
    "    :param conv_num_outputs: Number of outputs for the convolutional layer\n",
    "    :param conv_ksize: kernal size 2-D Tuple for the convolutional layer\n",
    "    :param conv_strides: Stride 2-D Tuple for convolution\n",
    "    :param pool_ksize: kernal size 2-D Tuple for pool\n",
    "    :param pool_strides: Stride 2-D Tuple for pool\n",
    "    : return: A tensor that represents convolution and max pooling of x_tensor\n",
    "    \"\"\"\n",
    "    # TODO: Implement Function\n",
    "    filter_weights = tf.Variable(tf.truncated_normal((conv_ksize[0], conv_ksize[1], \n",
    "                                                      int(x_tensor.shape[3]), conv_num_outputs), stddev=0.1))\n",
    "    filter_bias = tf.Variable(tf.zeros([conv_num_outputs]))\n",
    "    conv_layer = tf.nn.conv2d(x_tensor, filter_weights, \n",
    "                              strides = [1, conv_strides[0], conv_strides[1], 1], \n",
    "                              padding='SAME')\n",
    "    conv_layer = tf.nn.bias_add(conv_layer, filter_bias)\n",
    "    conv_layer = tf.nn.max_pool(conv_layer, \n",
    "                                ksize = [1, pool_ksize[0], pool_ksize[1], 1],\n",
    "                                strides = [1, pool_strides[0], pool_strides[1], 1],\n",
    "                                padding='SAME')\n",
    "    conv_layer = tf.nn.relu(conv_layer)\n",
    "    return conv_layer \n",
    "\n",
    "\n",
    "\"\"\"\n",
    "DON'T MODIFY ANYTHING IN THIS CELL THAT IS BELOW THIS LINE\n",
    "\"\"\"\n",
    "tests.test_con_pool(conv2d_maxpool)"
   ]
  },
  {
   "cell_type": "markdown",
   "metadata": {
    "deletable": true,
    "editable": true
   },
   "source": [
    "### Flatten Layer\n",
    "Implement the `flatten` function to change the dimension of `x_tensor` from a 4-D tensor to a 2-D tensor.  The output should be the shape (*Batch Size*, *Flattened Image Size*). Shortcut option: you can use classes from the [TensorFlow Layers](https://www.tensorflow.org/api_docs/python/tf/layers) or [TensorFlow Layers (contrib)](https://www.tensorflow.org/api_guides/python/contrib.layers) packages for this layer. For more of a challenge, only use other TensorFlow packages."
   ]
  },
  {
   "cell_type": "code",
   "execution_count": 4,
   "metadata": {
    "collapsed": false,
    "deletable": true,
    "editable": true
   },
   "outputs": [
    {
     "name": "stdout",
     "output_type": "stream",
     "text": [
      "Tests Passed\n"
     ]
    }
   ],
   "source": [
    "def flatten(x_tensor):\n",
    "    \"\"\"\n",
    "    Flatten x_tensor to (Batch Size, Flattened Image Size)\n",
    "    : x_tensor: A tensor of size (Batch Size, ...), where ... are the image dimensions.\n",
    "    : return: A tensor of size (Batch Size, Flattened Image Size).\n",
    "    \"\"\"\n",
    "    # TODO: Implement Function\n",
    "    return tf.contrib.layers.flatten(x_tensor)\n",
    "\n",
    "\n",
    "\"\"\"\n",
    "DON'T MODIFY ANYTHING IN THIS CELL THAT IS BELOW THIS LINE\n",
    "\"\"\"\n",
    "tests.test_flatten(flatten)"
   ]
  },
  {
   "cell_type": "markdown",
   "metadata": {
    "deletable": true,
    "editable": true
   },
   "source": [
    "### Fully-Connected Layer\n",
    "Implement the `fully_conn` function to apply a fully connected layer to `x_tensor` with the shape (*Batch Size*, *num_outputs*). Shortcut option: you can use classes from the [TensorFlow Layers](https://www.tensorflow.org/api_docs/python/tf/layers) or [TensorFlow Layers (contrib)](https://www.tensorflow.org/api_guides/python/contrib.layers) packages for this layer. For more of a challenge, only use other TensorFlow packages."
   ]
  },
  {
   "cell_type": "code",
   "execution_count": 5,
   "metadata": {
    "collapsed": false,
    "deletable": true,
    "editable": true
   },
   "outputs": [
    {
     "name": "stdout",
     "output_type": "stream",
     "text": [
      "Tests Passed\n"
     ]
    }
   ],
   "source": [
    "def fully_conn(x_tensor, num_outputs):\n",
    "    \"\"\"\n",
    "    Apply a fully connected layer to x_tensor using weight and bias\n",
    "    : x_tensor: A 2-D tensor where the first dimension is batch size.\n",
    "    : num_outputs: The number of output that the new tensor should be.\n",
    "    : return: A 2-D tensor where the second dimension is num_outputs.\n",
    "    \"\"\"\n",
    "    # TODO: Implement Function\n",
    "    image_size = x_tensor.get_shape().as_list()[1]\n",
    "    weights = tf.Variable(tf.truncated_normal(([image_size, num_outputs]), stddev=0.1))\n",
    "    bias = tf.Variable(tf.zeros(num_outputs))\n",
    "    out = tf.add(tf.matmul(x_tensor, weights), bias)\n",
    "    out = tf.nn.relu(out)\n",
    "    return out\n",
    "\n",
    "\n",
    "\"\"\"\n",
    "DON'T MODIFY ANYTHING IN THIS CELL THAT IS BELOW THIS LINE\n",
    "\"\"\"\n",
    "tests.test_fully_conn(fully_conn)"
   ]
  },
  {
   "cell_type": "markdown",
   "metadata": {
    "deletable": true,
    "editable": true
   },
   "source": [
    "### Output Layer\n",
    "Implement the `output` function to apply a fully connected layer to `x_tensor` with the shape (*Batch Size*, *num_outputs*). Shortcut option: you can use classes from the [TensorFlow Layers](https://www.tensorflow.org/api_docs/python/tf/layers) or [TensorFlow Layers (contrib)](https://www.tensorflow.org/api_guides/python/contrib.layers) packages for this layer. For more of a challenge, only use other TensorFlow packages.\n",
    "\n",
    "**Note:** Activation, softmax, or cross entropy should **not** be applied to this."
   ]
  },
  {
   "cell_type": "code",
   "execution_count": 6,
   "metadata": {
    "collapsed": false,
    "deletable": true,
    "editable": true
   },
   "outputs": [
    {
     "name": "stdout",
     "output_type": "stream",
     "text": [
      "Tests Passed\n"
     ]
    }
   ],
   "source": [
    "def output(x_tensor, num_outputs):\n",
    "    \"\"\"\n",
    "    Apply a output layer to x_tensor using weight and bias\n",
    "    : x_tensor: A 2-D tensor where the first dimension is batch size.\n",
    "    : num_outputs: The number of output that the new tensor should be.\n",
    "    : return: A 2-D tensor where the second dimension is num_outputs.\n",
    "    \"\"\"\n",
    "    # TODO: Implement Function\n",
    "    image_size = x_tensor.get_shape().as_list()[1]\n",
    "    weights = tf.Variable(tf.truncated_normal(([image_size, num_outputs]), stddev=0.1))\n",
    "    bias = tf.Variable(tf.zeros(num_outputs))\n",
    "    return tf.add(tf.matmul(x_tensor, weights), bias)\n",
    "\n",
    "\n",
    "\"\"\"\n",
    "DON'T MODIFY ANYTHING IN THIS CELL THAT IS BELOW THIS LINE\n",
    "\"\"\"\n",
    "tests.test_output(output)"
   ]
  },
  {
   "cell_type": "markdown",
   "metadata": {
    "deletable": true,
    "editable": true
   },
   "source": [
    "### Create Convolutional Model\n",
    "Implement the function `conv_net` to create a convolutional neural network model. The function takes in a batch of images, `x`, and outputs logits.  Use the layers you created above to create this model:\n",
    "\n",
    "* Apply 1, 2, or 3 Convolution and Max Pool layers\n",
    "* Apply a Flatten Layer\n",
    "* Apply 1, 2, or 3 Fully Connected Layers\n",
    "* Apply an Output Layer\n",
    "* Return the output\n",
    "* Apply [TensorFlow's Dropout](https://www.tensorflow.org/api_docs/python/tf/nn/dropout) to one or more layers in the model using `keep_prob`. "
   ]
  },
  {
   "cell_type": "code",
   "execution_count": 7,
   "metadata": {
    "collapsed": false,
    "deletable": true,
    "editable": true
   },
   "outputs": [
    {
     "name": "stdout",
     "output_type": "stream",
     "text": [
      "Neural Network Built!\n"
     ]
    }
   ],
   "source": [
    "def conv_net(x, keep_prob):\n",
    "    \"\"\"\n",
    "    Create a convolutional neural network model\n",
    "    : x: Placeholder tensor that holds image data.\n",
    "    : keep_prob: Placeholder tensor that hold dropout keep probability.\n",
    "    : return: Tensor that represents logits\n",
    "    \"\"\"\n",
    "    # TODO: Apply 1, 2, or 3 Convolution and Max Pool layers\n",
    "    #    Play around with different number of outputs, kernel size and stride\n",
    "    # Function Definition from Above:\n",
    "    #    conv2d_maxpool(x_tensor, conv_num_outputs, conv_ksize, conv_strides, pool_ksize, pool_strides)\n",
    "    \n",
    "    x_tensor = x\n",
    "    conv_num_outputs = 32\n",
    "    conv_ksize = [2, 2]\n",
    "    conv_strides = [1, 1]\n",
    "    pool_ksize = [2, 2]\n",
    "    pool_strides = [2, 2]\n",
    "    conv_layer1 = conv2d_maxpool(x_tensor, conv_num_outputs, conv_ksize, conv_strides, pool_ksize, pool_strides)\n",
    "    \n",
    "    conv_num_outputs = 48\n",
    "    conv_layer2 = conv2d_maxpool(conv_layer1, conv_num_outputs, conv_ksize, conv_strides, pool_ksize, pool_strides)\n",
    "    \n",
    "    conv_num_outputs = 64\n",
    "    conv_layer3 = conv2d_maxpool(conv_layer2, conv_num_outputs, conv_ksize, conv_strides, pool_ksize, pool_strides)\n",
    "    \n",
    "    # TODO: Apply a Flatten Layer\n",
    "    # Function Definition from Above:\n",
    "    #   flatten(x_tensor)\n",
    "    \n",
    "    flattened = flatten(conv_layer3)\n",
    "\n",
    "    # TODO: Apply 1, 2, or 3 Fully Connected Layers\n",
    "    #    Play around with different number of outputs\n",
    "    # Function Definition from Above:\n",
    "    #   fully_conn(x_tensor, num_outputs)\n",
    "    \n",
    "    num_outputs = 100\n",
    "    fully_1 = fully_conn(flattened, num_outputs)\n",
    "    fully_dropout = tf.nn.dropout(fully_1, keep_prob)\n",
    "    num_outputs = 100\n",
    "    fully_2 = fully_conn(fully_dropout, num_outputs)\n",
    "    \n",
    "    \n",
    "    # TODO: Apply an Output Layer\n",
    "    #    Set this to the number of classes\n",
    "    # Function Definition from Above:\n",
    "    #   output(x_tensor, num_outputs)\n",
    "    \n",
    "    num_outputs = 10\n",
    "    logits = output(fully_2, num_outputs)\n",
    "    \n",
    "    # TODO: return output\n",
    "    return logits\n",
    "\n",
    "\n",
    "\"\"\"\n",
    "DON'T MODIFY ANYTHING IN THIS CELL THAT IS BELOW THIS LINE\n",
    "\"\"\"\n",
    "\n",
    "##############################\n",
    "## Build the Neural Network ##\n",
    "##############################\n",
    "\n",
    "# Remove previous weights, bias, inputs, etc..\n",
    "tf.reset_default_graph()\n",
    "\n",
    "# Inputs\n",
    "x = neural_net_image_input((32, 32, 3))\n",
    "y = neural_net_label_input(10)\n",
    "keep_prob = neural_net_keep_prob_input()\n",
    "\n",
    "# Model\n",
    "logits = conv_net(x, keep_prob)\n",
    "\n",
    "# Name logits Tensor, so that is can be loaded from disk after training\n",
    "logits = tf.identity(logits, name='logits')\n",
    "\n",
    "# Loss and Optimizer\n",
    "cost = tf.reduce_mean(tf.nn.softmax_cross_entropy_with_logits(logits=logits, labels=y))\n",
    "optimizer = tf.train.AdamOptimizer().minimize(cost)\n",
    "\n",
    "# Accuracy\n",
    "correct_pred = tf.equal(tf.argmax(logits, 1), tf.argmax(y, 1))\n",
    "accuracy = tf.reduce_mean(tf.cast(correct_pred, tf.float32), name='accuracy')\n",
    "\n",
    "tests.test_conv_net(conv_net)"
   ]
  },
  {
   "cell_type": "markdown",
   "metadata": {
    "deletable": true,
    "editable": true
   },
   "source": [
    "## Train the Neural Network\n",
    "### Single Optimization\n",
    "Implement the function `train_neural_network` to do a single optimization.  The optimization should use `optimizer` to optimize in `session` with a `feed_dict` of the following:\n",
    "* `x` for image input\n",
    "* `y` for labels\n",
    "* `keep_prob` for keep probability for dropout\n",
    "\n",
    "This function will be called for each batch, so `tf.global_variables_initializer()` has already been called.\n",
    "\n",
    "Note: Nothing needs to be returned. This function is only optimizing the neural network."
   ]
  },
  {
   "cell_type": "code",
   "execution_count": 8,
   "metadata": {
    "collapsed": false,
    "deletable": true,
    "editable": true
   },
   "outputs": [
    {
     "name": "stdout",
     "output_type": "stream",
     "text": [
      "Tests Passed\n"
     ]
    }
   ],
   "source": [
    "def train_neural_network(session, optimizer, keep_probability, feature_batch, label_batch):\n",
    "    \"\"\"\n",
    "    Optimize the session on a batch of images and labels\n",
    "    : session: Current TensorFlow session\n",
    "    : optimizer: TensorFlow optimizer function\n",
    "    : keep_probability: keep probability\n",
    "    : feature_batch: Batch of Numpy image data\n",
    "    : label_batch: Batch of Numpy label data\n",
    "    \"\"\"\n",
    "    # TODO: Implement Function\n",
    "    #session.run(tf.global_variables_initializer())\n",
    "    \n",
    "    session.run(optimizer, feed_dict={x: feature_batch, y: label_batch, keep_prob: keep_probability})\n",
    "\n",
    "\n",
    "\"\"\"\n",
    "DON'T MODIFY ANYTHING IN THIS CELL THAT IS BELOW THIS LINE\n",
    "\"\"\"\n",
    "tests.test_train_nn(train_neural_network)"
   ]
  },
  {
   "cell_type": "markdown",
   "metadata": {
    "deletable": true,
    "editable": true
   },
   "source": [
    "### Show Stats\n",
    "Implement the function `print_stats` to print loss and validation accuracy.  Use the global variables `valid_features` and `valid_labels` to calculate validation accuracy.  Use a keep probability of `1.0` to calculate the loss and validation accuracy."
   ]
  },
  {
   "cell_type": "code",
   "execution_count": 9,
   "metadata": {
    "collapsed": false,
    "deletable": true,
    "editable": true
   },
   "outputs": [],
   "source": [
    "def print_stats(session, feature_batch, label_batch, cost, accuracy):\n",
    "    \"\"\"\n",
    "    Print information about loss and validation accuracy\n",
    "    : session: Current TensorFlow session\n",
    "    : feature_batch: Batch of Numpy image data\n",
    "    : label_batch: Batch of Numpy label data\n",
    "    : cost: TensorFlow cost function\n",
    "    : accuracy: TensorFlow accuracy function\n",
    "    \"\"\"\n",
    "    # TODO: Implement Function\n",
    "    current_cost = session.run(cost, feed_dict={x: feature_batch, y: label_batch, keep_prob: 1})\n",
    "    \n",
    "    valid_accuracy = session.run(accuracy, feed_dict={x: valid_features, y: valid_labels, keep_prob: 1})\n",
    "    \n",
    "    print('Cost: {} Accuracy: {}'.format(current_cost, valid_accuracy))"
   ]
  },
  {
   "cell_type": "markdown",
   "metadata": {
    "deletable": true,
    "editable": true
   },
   "source": [
    "### Hyperparameters\n",
    "Tune the following parameters:\n",
    "* Set `epochs` to the number of iterations until the network stops learning or start overfitting\n",
    "* Set `batch_size` to the highest number that your machine has memory for.  Most people set them to common sizes of memory:\n",
    " * 64\n",
    " * 128\n",
    " * 256\n",
    " * ...\n",
    "* Set `keep_probability` to the probability of keeping a node using dropout"
   ]
  },
  {
   "cell_type": "code",
   "execution_count": 10,
   "metadata": {
    "collapsed": true,
    "deletable": true,
    "editable": true
   },
   "outputs": [],
   "source": [
    "# TODO: Tune Parameters\n",
    "epochs = 35\n",
    "batch_size = 128\n",
    "keep_probability = 0.5"
   ]
  },
  {
   "cell_type": "markdown",
   "metadata": {
    "deletable": true,
    "editable": true
   },
   "source": [
    "### Train on a Single CIFAR-10 Batch\n",
    "Instead of training the neural network on all the CIFAR-10 batches of data, let's use a single batch. This should save time while you iterate on the model to get a better accuracy.  Once the final validation accuracy is 50% or greater, run the model on all the data in the next section."
   ]
  },
  {
   "cell_type": "code",
   "execution_count": 11,
   "metadata": {
    "collapsed": false,
    "deletable": true,
    "editable": true
   },
   "outputs": [
    {
     "name": "stdout",
     "output_type": "stream",
     "text": [
      "Checking the Training on a Single Batch...\n",
      "Epoch  1, CIFAR-10 Batch 1:  Cost: 2.1771271228790283 Accuracy: 0.2767999768257141\n",
      "Epoch  2, CIFAR-10 Batch 1:  Cost: 2.106478214263916 Accuracy: 0.34439995884895325\n",
      "Epoch  3, CIFAR-10 Batch 1:  Cost: 2.0555009841918945 Accuracy: 0.37779998779296875\n",
      "Epoch  4, CIFAR-10 Batch 1:  Cost: 1.872771978378296 Accuracy: 0.4198000133037567\n",
      "Epoch  5, CIFAR-10 Batch 1:  Cost: 1.7707701921463013 Accuracy: 0.4461999535560608\n",
      "Epoch  6, CIFAR-10 Batch 1:  Cost: 1.707454800605774 Accuracy: 0.46299996972084045\n",
      "Epoch  7, CIFAR-10 Batch 1:  Cost: 1.5222680568695068 Accuracy: 0.4745999574661255\n",
      "Epoch  8, CIFAR-10 Batch 1:  Cost: 1.528656244277954 Accuracy: 0.47759997844696045\n",
      "Epoch  9, CIFAR-10 Batch 1:  Cost: 1.371610403060913 Accuracy: 0.4991999566555023\n",
      "Epoch 10, CIFAR-10 Batch 1:  Cost: 1.3265173435211182 Accuracy: 0.5155999064445496\n",
      "Epoch 11, CIFAR-10 Batch 1:  Cost: 1.2451609373092651 Accuracy: 0.5227999091148376\n",
      "Epoch 12, CIFAR-10 Batch 1:  Cost: 1.228328824043274 Accuracy: 0.5343999266624451\n",
      "Epoch 13, CIFAR-10 Batch 1:  Cost: 1.1390535831451416 Accuracy: 0.5391998887062073\n",
      "Epoch 14, CIFAR-10 Batch 1:  Cost: 1.0973711013793945 Accuracy: 0.5553998947143555\n",
      "Epoch 15, CIFAR-10 Batch 1:  Cost: 0.9947513937950134 Accuracy: 0.5651999711990356\n",
      "Epoch 16, CIFAR-10 Batch 1:  Cost: 1.0244580507278442 Accuracy: 0.5555999279022217\n",
      "Epoch 17, CIFAR-10 Batch 1:  Cost: 0.9597830772399902 Accuracy: 0.5577999353408813\n",
      "Epoch 18, CIFAR-10 Batch 1:  Cost: 0.8863310813903809 Accuracy: 0.5747998952865601\n",
      "Epoch 19, CIFAR-10 Batch 1:  Cost: 0.8605765104293823 Accuracy: 0.5727999210357666\n",
      "Epoch 20, CIFAR-10 Batch 1:  Cost: 0.7843309044837952 Accuracy: 0.5779999494552612\n",
      "Epoch 21, CIFAR-10 Batch 1:  Cost: 0.7980332374572754 Accuracy: 0.5761999487876892\n",
      "Epoch 22, CIFAR-10 Batch 1:  Cost: 0.7427753210067749 Accuracy: 0.5897998809814453\n",
      "Epoch 23, CIFAR-10 Batch 1:  Cost: 0.718399167060852 Accuracy: 0.590999960899353\n",
      "Epoch 24, CIFAR-10 Batch 1:  Cost: 0.700995683670044 Accuracy: 0.5901999473571777\n",
      "Epoch 25, CIFAR-10 Batch 1:  Cost: 0.670849621295929 Accuracy: 0.5953999161720276\n",
      "Epoch 26, CIFAR-10 Batch 1:  Cost: 0.6586588621139526 Accuracy: 0.5857999324798584\n",
      "Epoch 27, CIFAR-10 Batch 1:  Cost: 0.59029221534729 Accuracy: 0.602199912071228\n",
      "Epoch 28, CIFAR-10 Batch 1:  Cost: 0.55796879529953 Accuracy: 0.6015998721122742\n",
      "Epoch 29, CIFAR-10 Batch 1:  Cost: 0.5660992860794067 Accuracy: 0.5987998843193054\n",
      "Epoch 30, CIFAR-10 Batch 1:  Cost: 0.49876195192337036 Accuracy: 0.5993999242782593\n",
      "Epoch 31, CIFAR-10 Batch 1:  Cost: 0.4935295283794403 Accuracy: 0.6063998937606812\n",
      "Epoch 32, CIFAR-10 Batch 1:  Cost: 0.4819689691066742 Accuracy: 0.6055999398231506\n",
      "Epoch 33, CIFAR-10 Batch 1:  Cost: 0.5692647695541382 Accuracy: 0.590999960899353\n",
      "Epoch 34, CIFAR-10 Batch 1:  Cost: 0.4714793562889099 Accuracy: 0.6091999411582947\n",
      "Epoch 35, CIFAR-10 Batch 1:  Cost: 0.49749529361724854 Accuracy: 0.6061999201774597\n"
     ]
    }
   ],
   "source": [
    "\"\"\"\n",
    "DON'T MODIFY ANYTHING IN THIS CELL\n",
    "\"\"\"\n",
    "print('Checking the Training on a Single Batch...')\n",
    "with tf.Session() as sess:\n",
    "    # Initializing the variables\n",
    "    sess.run(tf.global_variables_initializer())\n",
    "    \n",
    "    # Training cycle\n",
    "    for epoch in range(epochs):\n",
    "        batch_i = 1\n",
    "        for batch_features, batch_labels in helper.load_preprocess_training_batch(batch_i, batch_size):\n",
    "            train_neural_network(sess, optimizer, keep_probability, batch_features, batch_labels)\n",
    "        print('Epoch {:>2}, CIFAR-10 Batch {}:  '.format(epoch + 1, batch_i), end='')\n",
    "        print_stats(sess, batch_features, batch_labels, cost, accuracy)"
   ]
  },
  {
   "cell_type": "markdown",
   "metadata": {
    "deletable": true,
    "editable": true
   },
   "source": [
    "### Fully Train the Model\n",
    "Now that you got a good accuracy with a single CIFAR-10 batch, try it with all five batches."
   ]
  },
  {
   "cell_type": "code",
   "execution_count": 12,
   "metadata": {
    "collapsed": false,
    "deletable": true,
    "editable": true
   },
   "outputs": [
    {
     "name": "stdout",
     "output_type": "stream",
     "text": [
      "Training...\n",
      "Epoch  1, CIFAR-10 Batch 1:  Cost: 2.1434295177459717 Accuracy: 0.25939998030662537\n",
      "Epoch  1, CIFAR-10 Batch 2:  Cost: 1.884289026260376 Accuracy: 0.35419997572898865\n",
      "Epoch  1, CIFAR-10 Batch 3:  Cost: 1.5650691986083984 Accuracy: 0.3877999782562256\n",
      "Epoch  1, CIFAR-10 Batch 4:  Cost: 1.6297662258148193 Accuracy: 0.425199955701828\n",
      "Epoch  1, CIFAR-10 Batch 5:  Cost: 1.5366058349609375 Accuracy: 0.4381999969482422\n",
      "Epoch  2, CIFAR-10 Batch 1:  Cost: 1.7388362884521484 Accuracy: 0.4663999676704407\n",
      "Epoch  2, CIFAR-10 Batch 2:  Cost: 1.487288236618042 Accuracy: 0.4753999412059784\n",
      "Epoch  2, CIFAR-10 Batch 3:  Cost: 1.2532331943511963 Accuracy: 0.486799955368042\n",
      "Epoch  2, CIFAR-10 Batch 4:  Cost: 1.3793303966522217 Accuracy: 0.5077999234199524\n",
      "Epoch  2, CIFAR-10 Batch 5:  Cost: 1.3678512573242188 Accuracy: 0.5097999572753906\n",
      "Epoch  3, CIFAR-10 Batch 1:  Cost: 1.4934661388397217 Accuracy: 0.5327999591827393\n",
      "Epoch  3, CIFAR-10 Batch 2:  Cost: 1.2712163925170898 Accuracy: 0.5331999063491821\n",
      "Epoch  3, CIFAR-10 Batch 3:  Cost: 1.0868899822235107 Accuracy: 0.5313999056816101\n",
      "Epoch  3, CIFAR-10 Batch 4:  Cost: 1.1708425283432007 Accuracy: 0.5659999251365662\n",
      "Epoch  3, CIFAR-10 Batch 5:  Cost: 1.2291808128356934 Accuracy: 0.5471999645233154\n",
      "Epoch  4, CIFAR-10 Batch 1:  Cost: 1.403064250946045 Accuracy: 0.5577999353408813\n",
      "Epoch  4, CIFAR-10 Batch 2:  Cost: 1.1746549606323242 Accuracy: 0.5817999243736267\n",
      "Epoch  4, CIFAR-10 Batch 3:  Cost: 0.974242091178894 Accuracy: 0.5631999373435974\n",
      "Epoch  4, CIFAR-10 Batch 4:  Cost: 1.07686185836792 Accuracy: 0.5671998858451843\n",
      "Epoch  4, CIFAR-10 Batch 5:  Cost: 1.1212279796600342 Accuracy: 0.5929999351501465\n",
      "Epoch  5, CIFAR-10 Batch 1:  Cost: 1.20582914352417 Accuracy: 0.5969998836517334\n",
      "Epoch  5, CIFAR-10 Batch 2:  Cost: 1.0486631393432617 Accuracy: 0.6019999384880066\n",
      "Epoch  5, CIFAR-10 Batch 3:  Cost: 0.9035717248916626 Accuracy: 0.5833998918533325\n",
      "Epoch  5, CIFAR-10 Batch 4:  Cost: 0.8990554809570312 Accuracy: 0.6057999134063721\n",
      "Epoch  5, CIFAR-10 Batch 5:  Cost: 1.0488874912261963 Accuracy: 0.6147999167442322\n",
      "Epoch  6, CIFAR-10 Batch 1:  Cost: 1.109281301498413 Accuracy: 0.6091998815536499\n",
      "Epoch  6, CIFAR-10 Batch 2:  Cost: 0.910146951675415 Accuracy: 0.6199999451637268\n",
      "Epoch  6, CIFAR-10 Batch 3:  Cost: 0.7851841449737549 Accuracy: 0.6165998578071594\n",
      "Epoch  6, CIFAR-10 Batch 4:  Cost: 0.8353773355484009 Accuracy: 0.6287999153137207\n",
      "Epoch  6, CIFAR-10 Batch 5:  Cost: 0.9718588590621948 Accuracy: 0.6207998991012573\n",
      "Epoch  7, CIFAR-10 Batch 1:  Cost: 0.9831798672676086 Accuracy: 0.637799859046936\n",
      "Epoch  7, CIFAR-10 Batch 2:  Cost: 0.8536221385002136 Accuracy: 0.6303998827934265\n",
      "Epoch  7, CIFAR-10 Batch 3:  Cost: 0.7499234080314636 Accuracy: 0.6281998753547668\n",
      "Epoch  7, CIFAR-10 Batch 4:  Cost: 0.8041082620620728 Accuracy: 0.6361998915672302\n",
      "Epoch  7, CIFAR-10 Batch 5:  Cost: 0.8535232543945312 Accuracy: 0.6461998820304871\n",
      "Epoch  8, CIFAR-10 Batch 1:  Cost: 0.9538622498512268 Accuracy: 0.6471998691558838\n",
      "Epoch  8, CIFAR-10 Batch 2:  Cost: 0.7953575849533081 Accuracy: 0.6525999307632446\n",
      "Epoch  8, CIFAR-10 Batch 3:  Cost: 0.6502711176872253 Accuracy: 0.6433998942375183\n",
      "Epoch  8, CIFAR-10 Batch 4:  Cost: 0.7044390439987183 Accuracy: 0.6499998569488525\n",
      "Epoch  8, CIFAR-10 Batch 5:  Cost: 0.8467527627944946 Accuracy: 0.6563998460769653\n",
      "Epoch  9, CIFAR-10 Batch 1:  Cost: 0.8558840155601501 Accuracy: 0.6535998582839966\n",
      "Epoch  9, CIFAR-10 Batch 2:  Cost: 0.8355211019515991 Accuracy: 0.6543998718261719\n",
      "Epoch  9, CIFAR-10 Batch 3:  Cost: 0.6320602893829346 Accuracy: 0.6531998515129089\n",
      "Epoch  9, CIFAR-10 Batch 4:  Cost: 0.7079315185546875 Accuracy: 0.6537998914718628\n",
      "Epoch  9, CIFAR-10 Batch 5:  Cost: 0.80897057056427 Accuracy: 0.6561998724937439\n",
      "Epoch 10, CIFAR-10 Batch 1:  Cost: 0.8070598840713501 Accuracy: 0.6613999009132385\n",
      "Epoch 10, CIFAR-10 Batch 2:  Cost: 0.7230236530303955 Accuracy: 0.671799898147583\n",
      "Epoch 10, CIFAR-10 Batch 3:  Cost: 0.5765236020088196 Accuracy: 0.6685999035835266\n",
      "Epoch 10, CIFAR-10 Batch 4:  Cost: 0.6656888723373413 Accuracy: 0.6689999103546143\n",
      "Epoch 10, CIFAR-10 Batch 5:  Cost: 0.758733332157135 Accuracy: 0.6707999110221863\n",
      "Epoch 11, CIFAR-10 Batch 1:  Cost: 0.7672771215438843 Accuracy: 0.6695998907089233\n",
      "Epoch 11, CIFAR-10 Batch 2:  Cost: 0.6820483803749084 Accuracy: 0.6675998568534851\n",
      "Epoch 11, CIFAR-10 Batch 3:  Cost: 0.5141739845275879 Accuracy: 0.6649999022483826\n",
      "Epoch 11, CIFAR-10 Batch 4:  Cost: 0.6453825235366821 Accuracy: 0.6601998805999756\n",
      "Epoch 11, CIFAR-10 Batch 5:  Cost: 0.6747452616691589 Accuracy: 0.6707998514175415\n",
      "Epoch 12, CIFAR-10 Batch 1:  Cost: 0.7506501078605652 Accuracy: 0.6703999042510986\n",
      "Epoch 12, CIFAR-10 Batch 2:  Cost: 0.6681459546089172 Accuracy: 0.6683999300003052\n",
      "Epoch 12, CIFAR-10 Batch 3:  Cost: 0.5224559307098389 Accuracy: 0.6683998703956604\n",
      "Epoch 12, CIFAR-10 Batch 4:  Cost: 0.6153336763381958 Accuracy: 0.6757999658584595\n",
      "Epoch 12, CIFAR-10 Batch 5:  Cost: 0.642889678478241 Accuracy: 0.6645998954772949\n",
      "Epoch 13, CIFAR-10 Batch 1:  Cost: 0.6936086416244507 Accuracy: 0.6759998798370361\n",
      "Epoch 13, CIFAR-10 Batch 2:  Cost: 0.6106832027435303 Accuracy: 0.6795998811721802\n",
      "Epoch 13, CIFAR-10 Batch 3:  Cost: 0.45188820362091064 Accuracy: 0.679399847984314\n",
      "Epoch 13, CIFAR-10 Batch 4:  Cost: 0.5906554460525513 Accuracy: 0.6767998933792114\n",
      "Epoch 13, CIFAR-10 Batch 5:  Cost: 0.6157141923904419 Accuracy: 0.6767998337745667\n",
      "Epoch 14, CIFAR-10 Batch 1:  Cost: 0.6368734836578369 Accuracy: 0.689599871635437\n",
      "Epoch 14, CIFAR-10 Batch 2:  Cost: 0.54985511302948 Accuracy: 0.679999828338623\n",
      "Epoch 14, CIFAR-10 Batch 3:  Cost: 0.4224473834037781 Accuracy: 0.687799870967865\n",
      "Epoch 14, CIFAR-10 Batch 4:  Cost: 0.5393590331077576 Accuracy: 0.6783998608589172\n",
      "Epoch 14, CIFAR-10 Batch 5:  Cost: 0.5911256670951843 Accuracy: 0.6729998588562012\n",
      "Epoch 15, CIFAR-10 Batch 1:  Cost: 0.6263255476951599 Accuracy: 0.6851998567581177\n",
      "Epoch 15, CIFAR-10 Batch 2:  Cost: 0.5356366634368896 Accuracy: 0.6905998587608337\n",
      "Epoch 15, CIFAR-10 Batch 3:  Cost: 0.39262935519218445 Accuracy: 0.6907998919487\n",
      "Epoch 15, CIFAR-10 Batch 4:  Cost: 0.5108818411827087 Accuracy: 0.6951998472213745\n",
      "Epoch 15, CIFAR-10 Batch 5:  Cost: 0.5553314685821533 Accuracy: 0.6899998188018799\n",
      "Epoch 16, CIFAR-10 Batch 1:  Cost: 0.6273239254951477 Accuracy: 0.6909998059272766\n",
      "Epoch 16, CIFAR-10 Batch 2:  Cost: 0.46266141533851624 Accuracy: 0.6961998343467712\n",
      "Epoch 16, CIFAR-10 Batch 3:  Cost: 0.38577041029930115 Accuracy: 0.6845998764038086\n",
      "Epoch 16, CIFAR-10 Batch 4:  Cost: 0.48159337043762207 Accuracy: 0.6887999176979065\n",
      "Epoch 16, CIFAR-10 Batch 5:  Cost: 0.5172386169433594 Accuracy: 0.6883999109268188\n",
      "Epoch 17, CIFAR-10 Batch 1:  Cost: 0.5689294338226318 Accuracy: 0.6981998085975647\n",
      "Epoch 17, CIFAR-10 Batch 2:  Cost: 0.47891560196876526 Accuracy: 0.6973998546600342\n",
      "Epoch 17, CIFAR-10 Batch 3:  Cost: 0.32350555062294006 Accuracy: 0.6983999013900757\n",
      "Epoch 17, CIFAR-10 Batch 4:  Cost: 0.44577038288116455 Accuracy: 0.6955999135971069\n",
      "Epoch 17, CIFAR-10 Batch 5:  Cost: 0.5208767652511597 Accuracy: 0.6911998391151428\n",
      "Epoch 18, CIFAR-10 Batch 1:  Cost: 0.5613710284233093 Accuracy: 0.7003998756408691\n",
      "Epoch 18, CIFAR-10 Batch 2:  Cost: 0.44584470987319946 Accuracy: 0.7101998329162598\n",
      "Epoch 18, CIFAR-10 Batch 3:  Cost: 0.33233970403671265 Accuracy: 0.6919999122619629\n",
      "Epoch 18, CIFAR-10 Batch 4:  Cost: 0.47464102506637573 Accuracy: 0.6997998952865601\n",
      "Epoch 18, CIFAR-10 Batch 5:  Cost: 0.4864445626735687 Accuracy: 0.6875998377799988\n",
      "Epoch 19, CIFAR-10 Batch 1:  Cost: 0.5168489813804626 Accuracy: 0.7001999020576477\n",
      "Epoch 19, CIFAR-10 Batch 2:  Cost: 0.4121053218841553 Accuracy: 0.6987998485565186\n",
      "Epoch 19, CIFAR-10 Batch 3:  Cost: 0.3307315707206726 Accuracy: 0.6929998993873596\n",
      "Epoch 19, CIFAR-10 Batch 4:  Cost: 0.4549604654312134 Accuracy: 0.692599892616272\n",
      "Epoch 19, CIFAR-10 Batch 5:  Cost: 0.45266205072402954 Accuracy: 0.684199869632721\n",
      "Epoch 20, CIFAR-10 Batch 1:  Cost: 0.5114160776138306 Accuracy: 0.6967998743057251\n",
      "Epoch 20, CIFAR-10 Batch 2:  Cost: 0.379744291305542 Accuracy: 0.7079998850822449\n",
      "Epoch 20, CIFAR-10 Batch 3:  Cost: 0.3011634051799774 Accuracy: 0.6939998865127563\n",
      "Epoch 20, CIFAR-10 Batch 4:  Cost: 0.41551339626312256 Accuracy: 0.7041999101638794\n",
      "Epoch 20, CIFAR-10 Batch 5:  Cost: 0.4267429709434509 Accuracy: 0.6897998452186584\n",
      "Epoch 21, CIFAR-10 Batch 1:  Cost: 0.49656885862350464 Accuracy: 0.7087998986244202\n",
      "Epoch 21, CIFAR-10 Batch 2:  Cost: 0.3555837571620941 Accuracy: 0.7115998268127441\n",
      "Epoch 21, CIFAR-10 Batch 3:  Cost: 0.26418453454971313 Accuracy: 0.7065998315811157\n",
      "Epoch 21, CIFAR-10 Batch 4:  Cost: 0.3741929829120636 Accuracy: 0.7045998573303223\n",
      "Epoch 21, CIFAR-10 Batch 5:  Cost: 0.42531365156173706 Accuracy: 0.707399845123291\n",
      "Epoch 22, CIFAR-10 Batch 1:  Cost: 0.4563925862312317 Accuracy: 0.7097998261451721\n",
      "Epoch 22, CIFAR-10 Batch 2:  Cost: 0.37953683733940125 Accuracy: 0.7079998254776001\n",
      "Epoch 22, CIFAR-10 Batch 3:  Cost: 0.24967816472053528 Accuracy: 0.7079999446868896\n",
      "Epoch 22, CIFAR-10 Batch 4:  Cost: 0.3619970381259918 Accuracy: 0.7089998126029968\n",
      "Epoch 22, CIFAR-10 Batch 5:  Cost: 0.40529149770736694 Accuracy: 0.7115998864173889\n",
      "Epoch 23, CIFAR-10 Batch 1:  Cost: 0.41642358899116516 Accuracy: 0.7089998722076416\n",
      "Epoch 23, CIFAR-10 Batch 2:  Cost: 0.38690078258514404 Accuracy: 0.7037999033927917\n",
      "Epoch 23, CIFAR-10 Batch 3:  Cost: 0.2614395320415497 Accuracy: 0.7141998410224915\n",
      "Epoch 23, CIFAR-10 Batch 4:  Cost: 0.36394938826560974 Accuracy: 0.7073999047279358\n",
      "Epoch 23, CIFAR-10 Batch 5:  Cost: 0.38369041681289673 Accuracy: 0.704399824142456\n",
      "Epoch 24, CIFAR-10 Batch 1:  Cost: 0.3903566598892212 Accuracy: 0.7079998850822449\n",
      "Epoch 24, CIFAR-10 Batch 2:  Cost: 0.45789235830307007 Accuracy: 0.7065998911857605\n",
      "Epoch 24, CIFAR-10 Batch 3:  Cost: 0.23265758156776428 Accuracy: 0.7117998600006104\n",
      "Epoch 24, CIFAR-10 Batch 4:  Cost: 0.35925719141960144 Accuracy: 0.7143998146057129\n",
      "Epoch 24, CIFAR-10 Batch 5:  Cost: 0.3954501748085022 Accuracy: 0.6995998620986938\n",
      "Epoch 25, CIFAR-10 Batch 1:  Cost: 0.4533926248550415 Accuracy: 0.7099997997283936\n",
      "Epoch 25, CIFAR-10 Batch 2:  Cost: 0.3663928508758545 Accuracy: 0.7129998207092285\n",
      "Epoch 25, CIFAR-10 Batch 3:  Cost: 0.2561276853084564 Accuracy: 0.7051998376846313\n",
      "Epoch 25, CIFAR-10 Batch 4:  Cost: 0.38175326585769653 Accuracy: 0.7071998715400696\n",
      "Epoch 25, CIFAR-10 Batch 5:  Cost: 0.33803096413612366 Accuracy: 0.7075998783111572\n",
      "Epoch 26, CIFAR-10 Batch 1:  Cost: 0.451030969619751 Accuracy: 0.7063999176025391\n",
      "Epoch 26, CIFAR-10 Batch 2:  Cost: 0.34722572565078735 Accuracy: 0.7067998647689819\n",
      "Epoch 26, CIFAR-10 Batch 3:  Cost: 0.2219230830669403 Accuracy: 0.7137998342514038\n",
      "Epoch 26, CIFAR-10 Batch 4:  Cost: 0.33014440536499023 Accuracy: 0.7145998477935791\n",
      "Epoch 26, CIFAR-10 Batch 5:  Cost: 0.3776180148124695 Accuracy: 0.7127998471260071\n",
      "Epoch 27, CIFAR-10 Batch 1:  Cost: 0.36533060669898987 Accuracy: 0.7129999399185181\n",
      "Epoch 27, CIFAR-10 Batch 2:  Cost: 0.34824466705322266 Accuracy: 0.7111998796463013\n",
      "Epoch 27, CIFAR-10 Batch 3:  Cost: 0.1912037581205368 Accuracy: 0.7141998410224915\n",
      "Epoch 27, CIFAR-10 Batch 4:  Cost: 0.32492244243621826 Accuracy: 0.7113997936248779\n",
      "Epoch 27, CIFAR-10 Batch 5:  Cost: 0.3421643078327179 Accuracy: 0.712199866771698\n",
      "Epoch 28, CIFAR-10 Batch 1:  Cost: 0.3514735698699951 Accuracy: 0.7195999026298523\n",
      "Epoch 28, CIFAR-10 Batch 2:  Cost: 0.31026560068130493 Accuracy: 0.7147998213768005\n",
      "Epoch 28, CIFAR-10 Batch 3:  Cost: 0.2141544371843338 Accuracy: 0.7211998105049133\n",
      "Epoch 28, CIFAR-10 Batch 4:  Cost: 0.28787457942962646 Accuracy: 0.7179998159408569\n",
      "Epoch 28, CIFAR-10 Batch 5:  Cost: 0.3114529848098755 Accuracy: 0.7131998538970947\n",
      "Epoch 29, CIFAR-10 Batch 1:  Cost: 0.38648533821105957 Accuracy: 0.7117998003959656\n",
      "Epoch 29, CIFAR-10 Batch 2:  Cost: 0.28080084919929504 Accuracy: 0.721599817276001\n",
      "Epoch 29, CIFAR-10 Batch 3:  Cost: 0.2073373943567276 Accuracy: 0.7199998497962952\n",
      "Epoch 29, CIFAR-10 Batch 4:  Cost: 0.2875634431838989 Accuracy: 0.7069998979568481\n",
      "Epoch 29, CIFAR-10 Batch 5:  Cost: 0.35827764868736267 Accuracy: 0.7039998769760132\n",
      "Epoch 30, CIFAR-10 Batch 1:  Cost: 0.310563862323761 Accuracy: 0.7107999324798584\n",
      "Epoch 30, CIFAR-10 Batch 2:  Cost: 0.29565054178237915 Accuracy: 0.7059998512268066\n",
      "Epoch 30, CIFAR-10 Batch 3:  Cost: 0.21628707647323608 Accuracy: 0.7229998707771301\n",
      "Epoch 30, CIFAR-10 Batch 4:  Cost: 0.2849031090736389 Accuracy: 0.7189998626708984\n",
      "Epoch 30, CIFAR-10 Batch 5:  Cost: 0.34993821382522583 Accuracy: 0.7129998207092285\n",
      "Epoch 31, CIFAR-10 Batch 1:  Cost: 0.3510274589061737 Accuracy: 0.720599889755249\n",
      "Epoch 31, CIFAR-10 Batch 2:  Cost: 0.277263879776001 Accuracy: 0.7109998464584351\n",
      "Epoch 31, CIFAR-10 Batch 3:  Cost: 0.16839197278022766 Accuracy: 0.7245998978614807\n",
      "Epoch 31, CIFAR-10 Batch 4:  Cost: 0.22093960642814636 Accuracy: 0.7165998220443726\n",
      "Epoch 31, CIFAR-10 Batch 5:  Cost: 0.3301076889038086 Accuracy: 0.7143998146057129\n",
      "Epoch 32, CIFAR-10 Batch 1:  Cost: 0.3542539179325104 Accuracy: 0.7203999161720276\n",
      "Epoch 32, CIFAR-10 Batch 2:  Cost: 0.2526184320449829 Accuracy: 0.7179998755455017\n",
      "Epoch 32, CIFAR-10 Batch 3:  Cost: 0.16240769624710083 Accuracy: 0.7145998477935791\n",
      "Epoch 32, CIFAR-10 Batch 4:  Cost: 0.24650675058364868 Accuracy: 0.7133998870849609\n",
      "Epoch 32, CIFAR-10 Batch 5:  Cost: 0.2936464846134186 Accuracy: 0.7171998620033264\n",
      "Epoch 33, CIFAR-10 Batch 1:  Cost: 0.35763323307037354 Accuracy: 0.7183998823165894\n",
      "Epoch 33, CIFAR-10 Batch 2:  Cost: 0.2816782295703888 Accuracy: 0.7177999019622803\n",
      "Epoch 33, CIFAR-10 Batch 3:  Cost: 0.1673159897327423 Accuracy: 0.715199887752533\n",
      "Epoch 33, CIFAR-10 Batch 4:  Cost: 0.24160125851631165 Accuracy: 0.7019997835159302\n",
      "Epoch 33, CIFAR-10 Batch 5:  Cost: 0.30847302079200745 Accuracy: 0.7165999412536621\n",
      "Epoch 34, CIFAR-10 Batch 1:  Cost: 0.30000683665275574 Accuracy: 0.7061998844146729\n",
      "Epoch 34, CIFAR-10 Batch 2:  Cost: 0.2464616596698761 Accuracy: 0.7225998640060425\n",
      "Epoch 34, CIFAR-10 Batch 3:  Cost: 0.16938823461532593 Accuracy: 0.7229998707771301\n",
      "Epoch 34, CIFAR-10 Batch 4:  Cost: 0.22035226225852966 Accuracy: 0.7213998436927795\n",
      "Epoch 34, CIFAR-10 Batch 5:  Cost: 0.27970731258392334 Accuracy: 0.7259998321533203\n",
      "Epoch 35, CIFAR-10 Batch 1:  Cost: 0.33582553267478943 Accuracy: 0.7087998986244202\n",
      "Epoch 35, CIFAR-10 Batch 2:  Cost: 0.2584356963634491 Accuracy: 0.718599796295166\n",
      "Epoch 35, CIFAR-10 Batch 3:  Cost: 0.22615142166614532 Accuracy: 0.7107998728752136\n",
      "Epoch 35, CIFAR-10 Batch 4:  Cost: 0.18222185969352722 Accuracy: 0.7203998565673828\n",
      "Epoch 35, CIFAR-10 Batch 5:  Cost: 0.28226250410079956 Accuracy: 0.722399890422821\n"
     ]
    }
   ],
   "source": [
    "\"\"\"\n",
    "DON'T MODIFY ANYTHING IN THIS CELL\n",
    "\"\"\"\n",
    "save_model_path = './image_classification'\n",
    "\n",
    "print('Training...')\n",
    "with tf.Session() as sess:\n",
    "    # Initializing the variables\n",
    "    sess.run(tf.global_variables_initializer())\n",
    "    \n",
    "    # Training cycle\n",
    "    for epoch in range(epochs):\n",
    "        # Loop over all batches\n",
    "        n_batches = 5\n",
    "        for batch_i in range(1, n_batches + 1):\n",
    "            for batch_features, batch_labels in helper.load_preprocess_training_batch(batch_i, batch_size):\n",
    "                train_neural_network(sess, optimizer, keep_probability, batch_features, batch_labels)\n",
    "            print('Epoch {:>2}, CIFAR-10 Batch {}:  '.format(epoch + 1, batch_i), end='')\n",
    "            print_stats(sess, batch_features, batch_labels, cost, accuracy)\n",
    "            \n",
    "    # Save Model\n",
    "    saver = tf.train.Saver()\n",
    "    save_path = saver.save(sess, save_model_path)"
   ]
  },
  {
   "cell_type": "markdown",
   "metadata": {
    "deletable": true,
    "editable": true
   },
   "source": [
    "# Checkpoint\n",
    "The model has been saved to disk.\n",
    "## Test Model\n",
    "Test your model against the test dataset.  This will be your final accuracy. You should have an accuracy greater than 50%. If you don't, keep tweaking the model architecture and parameters."
   ]
  },
  {
   "cell_type": "code",
   "execution_count": 14,
   "metadata": {
    "collapsed": false,
    "deletable": true,
    "editable": true
   },
   "outputs": [
    {
     "name": "stdout",
     "output_type": "stream",
     "text": [
      "Testing Accuracy: 0.7138053797468354\n",
      "\n"
     ]
    },
    {
     "data": {
      "image/png": "[encoded data removed]",
      "text/plain": [
       "<matplotlib.figure.Figure at 0x7f8afc663128>"
      ]
     },
     "metadata": {
      "image/png": {
       "height": 319,
       "width": 351
      }
     },
     "output_type": "display_data"
    }
   ],
   "source": [
    "\"\"\"\n",
    "DON'T MODIFY ANYTHING IN THIS CELL\n",
    "\"\"\"\n",
    "%matplotlib inline\n",
    "%config InlineBackend.figure_format = 'retina'\n",
    "\n",
    "import tensorflow as tf\n",
    "import pickle\n",
    "import helper\n",
    "import random\n",
    "\n",
    "# Set batch size if not already set\n",
    "try:\n",
    "    if batch_size:\n",
    "        pass\n",
    "except NameError:\n",
    "    batch_size = 64\n",
    "\n",
    "save_model_path = './image_classification'\n",
    "n_samples = 4\n",
    "top_n_predictions = 3\n",
    "\n",
    "def test_model():\n",
    "    \"\"\"\n",
    "    Test the saved model against the test dataset\n",
    "    \"\"\"\n",
    "\n",
    "    test_features, test_labels = pickle.load(open('preprocess_training.p', mode='rb'))\n",
    "    loaded_graph = tf.Graph()\n",
    "\n",
    "    with tf.Session(graph=loaded_graph) as sess:\n",
    "        # Load model\n",
    "        loader = tf.train.import_meta_graph(save_model_path + '.meta')\n",
    "        loader.restore(sess, save_model_path)\n",
    "\n",
    "        # Get Tensors from loaded model\n",
    "        loaded_x = loaded_graph.get_tensor_by_name('x:0')\n",
    "        loaded_y = loaded_graph.get_tensor_by_name('y:0')\n",
    "        loaded_keep_prob = loaded_graph.get_tensor_by_name('keep_prob:0')\n",
    "        loaded_logits = loaded_graph.get_tensor_by_name('logits:0')\n",
    "        loaded_acc = loaded_graph.get_tensor_by_name('accuracy:0')\n",
    "        \n",
    "        # Get accuracy in batches for memory limitations\n",
    "        test_batch_acc_total = 0\n",
    "        test_batch_count = 0\n",
    "        \n",
    "        for train_feature_batch, train_label_batch in helper.batch_features_labels(test_features, test_labels, batch_size):\n",
    "            test_batch_acc_total += sess.run(\n",
    "                loaded_acc,\n",
    "                feed_dict={loaded_x: train_feature_batch, loaded_y: train_label_batch, loaded_keep_prob: 1.0})\n",
    "            test_batch_count += 1\n",
    "\n",
    "        print('Testing Accuracy: {}\\n'.format(test_batch_acc_total/test_batch_count))\n",
    "\n",
    "        # Print Random Samples\n",
    "        random_test_features, random_test_labels = tuple(zip(*random.sample(list(zip(test_features, test_labels)), n_samples)))\n",
    "        random_test_predictions = sess.run(\n",
    "            tf.nn.top_k(tf.nn.softmax(loaded_logits), top_n_predictions),\n",
    "            feed_dict={loaded_x: random_test_features, loaded_y: random_test_labels, loaded_keep_prob: 1.0})\n",
    "        helper.display_image_predictions(random_test_features, random_test_labels, random_test_predictions)\n",
    "\n",
    "\n",
    "test_model()"
   ]
  },
  {
   "cell_type": "markdown",
   "metadata": {
    "deletable": true,
    "editable": true
   },
   "source": [
    "## Why 50-70% Accuracy?\n",
    "You might be wondering why you can't get an accuracy any higher. First things first, 50% isn't bad for a simple CNN.  Pure guessing would get you 10% accuracy. However, you might notice people are getting scores [well above 70%](http://rodrigob.github.io/are_we_there_yet/build/classification_datasets_results.html#43494641522d3130).  That's because we haven't taught you all there is to know about neural networks. We still need to cover a few more techniques.\n",
    "## Submitting This Project\n",
    "When submitting this project, make sure to run all the cells before saving the notebook.  Save the notebook file as \"dlnd_image_classification.ipynb\" and save it as a HTML file under \"File\" -> \"Download as\".  Include the \"helper.py\" and \"problem_unittests.py\" files in your submission."
   ]
  }
 ],
 "metadata": {
  "kernelspec": {
   "display_name": "Python 3",
   "language": "python",
   "name": "python3"
  },
  "language_info": {
   "codemirror_mode": {
    "name": "ipython",
    "version": 3
   },
   "file_extension": ".py",
   "mimetype": "text/x-python",
   "name": "python",
   "nbconvert_exporter": "python",
   "pygments_lexer": "ipython3",
   "version": "3.5.2"
  },
  "widgets": {
   "state": {},
   "version": "1.1.2"
  }
 },
 "nbformat": 4,
 "nbformat_minor": 0
}
